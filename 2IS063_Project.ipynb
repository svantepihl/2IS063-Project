{
  "nbformat": 4,
  "nbformat_minor": 0,
  "metadata": {
    "kernelspec": {
      "display_name": "Python 3",
      "language": "python",
      "name": "python3"
    },
    "language_info": {
      "codemirror_mode": {
        "name": "ipython",
        "version": 3
      },
      "file_extension": ".py",
      "mimetype": "text/x-python",
      "name": "python",
      "nbconvert_exporter": "python",
      "pygments_lexer": "ipython3",
      "version": "3.7.0"
    },
    "colab": {
      "name": "2IS063-Project.ipynb",
      "provenance": [],
      "collapsed_sections": [],
      "toc_visible": true,
      "include_colab_link": true
    }
  },
  "cells": [
    {
      "cell_type": "markdown",
      "metadata": {
        "id": "view-in-github",
        "colab_type": "text"
      },
      "source": [
        "<a href=\"https://colab.research.google.com/github/svantepihl/2IS063-Project/blob/main/2IS063_Project.ipynb\" target=\"_parent\"><img src=\"https://colab.research.google.com/assets/colab-badge.svg\" alt=\"Open In Colab\"/></a>"
      ]
    },
    {
      "cell_type": "markdown",
      "metadata": {
        "id": "LCkhGR-q8cWx"
      },
      "source": [
        "# Your Data Mining Pilot Study and Plan\n",
        "\n",
        "\n"
      ]
    },
    {
      "cell_type": "markdown",
      "metadata": {
        "id": "jHfW_Mv48cWx"
      },
      "source": [
        "## Background\n",
        "\n",
        "*Describe the organization and its operations, operational environment, analytical needs, etc.*\n",
        "\n",
        "*Replace the contents of this cell with your own text.*"
      ]
    },
    {
      "cell_type": "markdown",
      "metadata": {
        "id": "0IWPb6ar8cWy"
      },
      "source": [
        "## Problem description\n",
        "\n",
        "*Describe the problem that the organization is facing and the research question it needs answered.*\n",
        "\n",
        "*Replace the contents of this cell with your own text.*"
      ]
    },
    {
      "cell_type": "markdown",
      "metadata": {
        "id": "L8Q9IUhD8cWz"
      },
      "source": [
        "## Data collection\n",
        "\n",
        "*Document your data collection process and the properties of the data here. Implement, using Python code, to load and preprocess your selected dataset.*\n",
        "\n",
        "\n",
        "[Urban area US Census](https://catalog.data.gov/dataset/tiger-line-shapefile-2019-2010-nation-u-s-2010-census-urban-area-national)\n",
        "\n",
        "*Replace the contents of this cell with your own text.*"
      ]
    },
    {
      "cell_type": "code",
      "metadata": {
        "id": "ZTtaRnjS8cWz",
        "outputId": "e70ba99d-912f-40b0-f5a0-4556f3cc2c43",
        "colab": {
          "base_uri": "https://localhost:8080/"
        }
      },
      "source": [
        "# Import packages\n",
        "import pandas as pd\n",
        "\n",
        "from google.colab import drive\n",
        "drive.mount('/gdrive')\n",
        "%cd /gdrive\n",
        "\n",
        "\n",
        "# Install Kaggle library and download data from Kaggle using Svante's API Key\n",
        "!pip install kaggle #install the kaggle library\n",
        "!mkdir ~/.data \n",
        "!echo '{\"username\":\"svantepihl\",\"key\":\"294e719d5da4fffa993782c856e0a64d\"}' > ~/.kaggle/kaggle.json #write kaggle API credentials to kaggle.json\n",
        "!chmod 600 ~/.data/kaggle.json  # set permissions\n",
        "!kaggle datasets download -d \"manchunhui/us-election-2020-tweets\" -p /content/data/\n",
        "!unzip /content/data/us-election-2020-tweets.zip -d \"/content/data/\"\n",
        "\n",
        "## Read into dataframes\n",
        "tweets_trump = pd.read_csv('/content/data/hashtag_donaldtrump.csv', lineterminator='\\n')\n",
        "\n",
        "tweets_biden = pd.read_csv('/content/data/hashtag_joebiden.csv', lineterminator='\\n')\n",
        "\n",
        "tweets_biden.info()\n",
        "tweets_trump.info()"
      ],
      "execution_count": 2,
      "outputs": [
        {
          "output_type": "stream",
          "text": [
            "Drive already mounted at /gdrive; to attempt to forcibly remount, call drive.mount(\"/gdrive\", force_remount=True).\n",
            "/gdrive\n",
            "Requirement already satisfied: kaggle in /usr/local/lib/python3.6/dist-packages (1.5.9)\n",
            "Requirement already satisfied: python-dateutil in /usr/local/lib/python3.6/dist-packages (from kaggle) (2.8.1)\n",
            "Requirement already satisfied: requests in /usr/local/lib/python3.6/dist-packages (from kaggle) (2.23.0)\n",
            "Requirement already satisfied: tqdm in /usr/local/lib/python3.6/dist-packages (from kaggle) (4.41.1)\n",
            "Requirement already satisfied: six>=1.10 in /usr/local/lib/python3.6/dist-packages (from kaggle) (1.15.0)\n",
            "Requirement already satisfied: urllib3 in /usr/local/lib/python3.6/dist-packages (from kaggle) (1.24.3)\n",
            "Requirement already satisfied: slugify in /usr/local/lib/python3.6/dist-packages (from kaggle) (0.0.1)\n",
            "Requirement already satisfied: certifi in /usr/local/lib/python3.6/dist-packages (from kaggle) (2020.6.20)\n",
            "Requirement already satisfied: python-slugify in /usr/local/lib/python3.6/dist-packages (from kaggle) (4.0.1)\n",
            "Requirement already satisfied: chardet<4,>=3.0.2 in /usr/local/lib/python3.6/dist-packages (from requests->kaggle) (3.0.4)\n",
            "Requirement already satisfied: idna<3,>=2.5 in /usr/local/lib/python3.6/dist-packages (from requests->kaggle) (2.10)\n",
            "Requirement already satisfied: text-unidecode>=1.3 in /usr/local/lib/python3.6/dist-packages (from python-slugify->kaggle) (1.3)\n",
            "mkdir: cannot create directory ‘/root/.data’: File exists\n",
            "chmod: cannot access '/root/.data/kaggle.json': No such file or directory\n",
            "Warning: Your Kaggle API key is readable by other users on this system! To fix this, you can run 'chmod 600 /root/.kaggle/kaggle.json'\n",
            "us-election-2020-tweets.zip: Skipping, found more recently modified local copy (use --force to force download)\n",
            "Archive:  /content/data/us-election-2020-tweets.zip\n",
            "replace /content/data/hashtag_donaldtrump.csv? [y]es, [n]o, [A]ll, [N]one, [r]ename: n\n",
            "replace /content/data/hashtag_joebiden.csv? [y]es, [n]o, [A]ll, [N]one, [r]ename: n\n",
            "<class 'pandas.core.frame.DataFrame'>\n",
            "RangeIndex: 776886 entries, 0 to 776885\n",
            "Data columns (total 21 columns):\n",
            " #   Column                Non-Null Count   Dtype  \n",
            "---  ------                --------------   -----  \n",
            " 0   created_at            776886 non-null  object \n",
            " 1   tweet_id              776886 non-null  float64\n",
            " 2   tweet                 776886 non-null  object \n",
            " 3   likes                 776886 non-null  float64\n",
            " 4   retweet_count         776886 non-null  float64\n",
            " 5   source                776173 non-null  object \n",
            " 6   user_id               776886 non-null  float64\n",
            " 7   user_name             776868 non-null  object \n",
            " 8   user_screen_name      776886 non-null  object \n",
            " 9   user_description      694880 non-null  object \n",
            " 10  user_join_date        776886 non-null  object \n",
            " 11  user_followers_count  776886 non-null  float64\n",
            " 12  user_location         543095 non-null  object \n",
            " 13  lat                   355293 non-null  float64\n",
            " 14  long                  355293 non-null  float64\n",
            " 15  city                  186872 non-null  object \n",
            " 16  country               353779 non-null  object \n",
            " 17  continent             353797 non-null  object \n",
            " 18  state                 260195 non-null  object \n",
            " 19  state_code            244609 non-null  object \n",
            " 20  collected_at          776886 non-null  object \n",
            "dtypes: float64(7), object(14)\n",
            "memory usage: 124.5+ MB\n",
            "<class 'pandas.core.frame.DataFrame'>\n",
            "RangeIndex: 970919 entries, 0 to 970918\n",
            "Data columns (total 21 columns):\n",
            " #   Column                Non-Null Count   Dtype  \n",
            "---  ------                --------------   -----  \n",
            " 0   created_at            970919 non-null  object \n",
            " 1   tweet_id              970919 non-null  float64\n",
            " 2   tweet                 970919 non-null  object \n",
            " 3   likes                 970919 non-null  float64\n",
            " 4   retweet_count         970919 non-null  float64\n",
            " 5   source                970043 non-null  object \n",
            " 6   user_id               970919 non-null  float64\n",
            " 7   user_name             970903 non-null  object \n",
            " 8   user_screen_name      970919 non-null  object \n",
            " 9   user_description      869653 non-null  object \n",
            " 10  user_join_date        970919 non-null  object \n",
            " 11  user_followers_count  970919 non-null  float64\n",
            " 12  user_location         675966 non-null  object \n",
            " 13  lat                   445719 non-null  float64\n",
            " 14  long                  445719 non-null  float64\n",
            " 15  city                  227187 non-null  object \n",
            " 16  country               442748 non-null  object \n",
            " 17  continent             442765 non-null  object \n",
            " 18  state                 320620 non-null  object \n",
            " 19  state_code            300425 non-null  object \n",
            " 20  collected_at          970919 non-null  object \n",
            "dtypes: float64(7), object(14)\n",
            "memory usage: 155.6+ MB\n"
          ],
          "name": "stdout"
        }
      ]
    },
    {
      "cell_type": "code",
      "metadata": {
        "id": "BFkmedWrqavt",
        "outputId": "4a2ee6a0-b2d4-4c81-9b2f-9896889d3008",
        "colab": {
          "base_uri": "https://localhost:8080/"
        }
      },
      "source": [
        "# Select only tweets from the US\n",
        "tweets_biden = tweets_biden[tweets_biden.country == 'United States of America']\n",
        "tweets_trump = tweets_trump[tweets_trump.country == 'United States of America']\n",
        "\n",
        "# Remove all rows where location is missing\n",
        "tweets_biden = tweets_biden.dropna(subset=['lat','long','city','country','continent','state','state_code'], how='any')\n",
        "tweets_trump = tweets_trump.dropna(subset=['lat','long','city','country','continent','state','state_code'], how='any')\n",
        "\n",
        "tweets_biden.info()\n",
        "tweets_trump.info()\n"
      ],
      "execution_count": 3,
      "outputs": [
        {
          "output_type": "stream",
          "text": [
            "<class 'pandas.core.frame.DataFrame'>\n",
            "Int64Index: 90642 entries, 6 to 776865\n",
            "Data columns (total 21 columns):\n",
            " #   Column                Non-Null Count  Dtype  \n",
            "---  ------                --------------  -----  \n",
            " 0   created_at            90642 non-null  object \n",
            " 1   tweet_id              90642 non-null  float64\n",
            " 2   tweet                 90642 non-null  object \n",
            " 3   likes                 90642 non-null  float64\n",
            " 4   retweet_count         90642 non-null  float64\n",
            " 5   source                90639 non-null  object \n",
            " 6   user_id               90642 non-null  float64\n",
            " 7   user_name             90642 non-null  object \n",
            " 8   user_screen_name      90642 non-null  object \n",
            " 9   user_description      85764 non-null  object \n",
            " 10  user_join_date        90642 non-null  object \n",
            " 11  user_followers_count  90642 non-null  float64\n",
            " 12  user_location         90642 non-null  object \n",
            " 13  lat                   90642 non-null  float64\n",
            " 14  long                  90642 non-null  float64\n",
            " 15  city                  90642 non-null  object \n",
            " 16  country               90642 non-null  object \n",
            " 17  continent             90642 non-null  object \n",
            " 18  state                 90642 non-null  object \n",
            " 19  state_code            90642 non-null  object \n",
            " 20  collected_at          90642 non-null  object \n",
            "dtypes: float64(7), object(14)\n",
            "memory usage: 15.2+ MB\n",
            "<class 'pandas.core.frame.DataFrame'>\n",
            "Int64Index: 101967 entries, 2 to 970895\n",
            "Data columns (total 21 columns):\n",
            " #   Column                Non-Null Count   Dtype  \n",
            "---  ------                --------------   -----  \n",
            " 0   created_at            101967 non-null  object \n",
            " 1   tweet_id              101967 non-null  float64\n",
            " 2   tweet                 101967 non-null  object \n",
            " 3   likes                 101967 non-null  float64\n",
            " 4   retweet_count         101967 non-null  float64\n",
            " 5   source                101953 non-null  object \n",
            " 6   user_id               101967 non-null  float64\n",
            " 7   user_name             101966 non-null  object \n",
            " 8   user_screen_name      101967 non-null  object \n",
            " 9   user_description      96638 non-null   object \n",
            " 10  user_join_date        101967 non-null  object \n",
            " 11  user_followers_count  101967 non-null  float64\n",
            " 12  user_location         101967 non-null  object \n",
            " 13  lat                   101967 non-null  float64\n",
            " 14  long                  101967 non-null  float64\n",
            " 15  city                  101967 non-null  object \n",
            " 16  country               101967 non-null  object \n",
            " 17  continent             101967 non-null  object \n",
            " 18  state                 101967 non-null  object \n",
            " 19  state_code            101967 non-null  object \n",
            " 20  collected_at          101967 non-null  object \n",
            "dtypes: float64(7), object(14)\n",
            "memory usage: 17.1+ MB\n"
          ],
          "name": "stdout"
        }
      ]
    },
    {
      "cell_type": "code",
      "metadata": {
        "id": "koZ1ib9ayrTq",
        "outputId": "e3fa542b-17ae-43a2-dcc0-d1bedc8d6b56",
        "colab": {
          "base_uri": "https://localhost:8080/"
        }
      },
      "source": [
        "# Encode in GeoDataFrame\n",
        "!pip install geopandas\n",
        "#!apt install libspatialindex-dev\n",
        "#!pip install rtree\n",
        "import geopandas\n",
        "import matplotlib.pyplot as plt\n",
        "from geopandas.tools import sjoin\n",
        "\n",
        "gdf_biden = geopandas.GeoDataFrame(tweets_biden, geometry=geopandas.points_from_xy(tweets_biden.long, tweets_biden.lat))\n",
        "gdf_biden = gdf_biden.dropna(subset=['geometry'])\n",
        "\n",
        "gdf_trump = geopandas.GeoDataFrame(tweets_trump, geometry=geopandas.points_from_xy(tweets_trump.long, tweets_trump.lat))\n",
        "gdf_trump = gdf_trump.dropna(subset=['geometry'])\n",
        "\n",
        "gdf_biden.reset_index()\n",
        "gdf_trump.reset_index()\n",
        "\n",
        "gdf_biden.info()\n",
        "gdf_trump.info()"
      ],
      "execution_count": 9,
      "outputs": [
        {
          "output_type": "stream",
          "text": [
            "Requirement already satisfied: geopandas in /usr/local/lib/python3.6/dist-packages (0.8.1)\n",
            "Requirement already satisfied: fiona in /usr/local/lib/python3.6/dist-packages (from geopandas) (1.8.17)\n",
            "Requirement already satisfied: pandas>=0.23.0 in /usr/local/lib/python3.6/dist-packages (from geopandas) (1.1.4)\n",
            "Requirement already satisfied: pyproj>=2.2.0 in /usr/local/lib/python3.6/dist-packages (from geopandas) (3.0.0.post1)\n",
            "Requirement already satisfied: shapely in /usr/local/lib/python3.6/dist-packages (from geopandas) (1.7.1)\n",
            "Requirement already satisfied: attrs>=17 in /usr/local/lib/python3.6/dist-packages (from fiona->geopandas) (20.2.0)\n",
            "Requirement already satisfied: cligj>=0.5 in /usr/local/lib/python3.6/dist-packages (from fiona->geopandas) (0.7.0)\n",
            "Requirement already satisfied: click<8,>=4.0 in /usr/local/lib/python3.6/dist-packages (from fiona->geopandas) (7.1.2)\n",
            "Requirement already satisfied: munch in /usr/local/lib/python3.6/dist-packages (from fiona->geopandas) (2.5.0)\n",
            "Requirement already satisfied: click-plugins>=1.0 in /usr/local/lib/python3.6/dist-packages (from fiona->geopandas) (1.1.1)\n",
            "Requirement already satisfied: six>=1.7 in /usr/local/lib/python3.6/dist-packages (from fiona->geopandas) (1.15.0)\n",
            "Requirement already satisfied: python-dateutil>=2.7.3 in /usr/local/lib/python3.6/dist-packages (from pandas>=0.23.0->geopandas) (2.8.1)\n",
            "Requirement already satisfied: pytz>=2017.2 in /usr/local/lib/python3.6/dist-packages (from pandas>=0.23.0->geopandas) (2018.9)\n",
            "Requirement already satisfied: numpy>=1.15.4 in /usr/local/lib/python3.6/dist-packages (from pandas>=0.23.0->geopandas) (1.18.5)\n",
            "Requirement already satisfied: certifi in /usr/local/lib/python3.6/dist-packages (from pyproj>=2.2.0->geopandas) (2020.6.20)\n",
            "<class 'geopandas.geodataframe.GeoDataFrame'>\n",
            "Int64Index: 90642 entries, 6 to 776865\n",
            "Data columns (total 22 columns):\n",
            " #   Column                Non-Null Count  Dtype   \n",
            "---  ------                --------------  -----   \n",
            " 0   created_at            90642 non-null  object  \n",
            " 1   tweet_id              90642 non-null  float64 \n",
            " 2   tweet                 90642 non-null  object  \n",
            " 3   likes                 90642 non-null  float64 \n",
            " 4   retweet_count         90642 non-null  float64 \n",
            " 5   source                90639 non-null  object  \n",
            " 6   user_id               90642 non-null  float64 \n",
            " 7   user_name             90642 non-null  object  \n",
            " 8   user_screen_name      90642 non-null  object  \n",
            " 9   user_description      85764 non-null  object  \n",
            " 10  user_join_date        90642 non-null  object  \n",
            " 11  user_followers_count  90642 non-null  float64 \n",
            " 12  user_location         90642 non-null  object  \n",
            " 13  lat                   90642 non-null  float64 \n",
            " 14  long                  90642 non-null  float64 \n",
            " 15  city                  90642 non-null  object  \n",
            " 16  country               90642 non-null  object  \n",
            " 17  continent             90642 non-null  object  \n",
            " 18  state                 90642 non-null  object  \n",
            " 19  state_code            90642 non-null  object  \n",
            " 20  collected_at          90642 non-null  object  \n",
            " 21  geometry              90642 non-null  geometry\n",
            "dtypes: float64(7), geometry(1), object(14)\n",
            "memory usage: 15.9+ MB\n",
            "<class 'geopandas.geodataframe.GeoDataFrame'>\n",
            "Int64Index: 101967 entries, 2 to 970895\n",
            "Data columns (total 22 columns):\n",
            " #   Column                Non-Null Count   Dtype   \n",
            "---  ------                --------------   -----   \n",
            " 0   created_at            101967 non-null  object  \n",
            " 1   tweet_id              101967 non-null  float64 \n",
            " 2   tweet                 101967 non-null  object  \n",
            " 3   likes                 101967 non-null  float64 \n",
            " 4   retweet_count         101967 non-null  float64 \n",
            " 5   source                101953 non-null  object  \n",
            " 6   user_id               101967 non-null  float64 \n",
            " 7   user_name             101966 non-null  object  \n",
            " 8   user_screen_name      101967 non-null  object  \n",
            " 9   user_description      96638 non-null   object  \n",
            " 10  user_join_date        101967 non-null  object  \n",
            " 11  user_followers_count  101967 non-null  float64 \n",
            " 12  user_location         101967 non-null  object  \n",
            " 13  lat                   101967 non-null  float64 \n",
            " 14  long                  101967 non-null  float64 \n",
            " 15  city                  101967 non-null  object  \n",
            " 16  country               101967 non-null  object  \n",
            " 17  continent             101967 non-null  object  \n",
            " 18  state                 101967 non-null  object  \n",
            " 19  state_code            101967 non-null  object  \n",
            " 20  collected_at          101967 non-null  object  \n",
            " 21  geometry              101967 non-null  geometry\n",
            "dtypes: float64(7), geometry(1), object(14)\n",
            "memory usage: 17.9+ MB\n"
          ],
          "name": "stdout"
        }
      ]
    },
    {
      "cell_type": "code",
      "metadata": {
        "id": "in9uO-fcprGs",
        "outputId": "cd1ebd67-e240-416d-8289-5eadeb251049",
        "colab": {
          "base_uri": "https://localhost:8080/",
          "height": 409
        }
      },
      "source": [
        "# Get urban or rural\n",
        "!pip install pyshp\n",
        "pd.options.mode.chained_assignment = None\n",
        "pd.set_option('display.max_columns', 30)\n",
        "import shapefile\n",
        "import fiona\n",
        "from shapely.geometry import Point \n",
        "from shapely.geometry import shape\n",
        "from shapely.geometry import Polygon, Point, MultiPolygon\n",
        "\n",
        "points = gdf_biden.reset_index()\n",
        "\n",
        "\n",
        "sf = shapefile.Reader(\"/gdrive/My Drive/Colab Notebooks/cb_2018_us_ua10_500k/cb_2018_us_ua10_500k\")\n",
        "shapes = sf.shapes()\n",
        "\n",
        "polygons = [ Polygon(shape.points) for shape in shapes ]\n",
        "\n",
        "def is_urban(pt):\n",
        "    result = False\n",
        "    count = sum(map(lambda x : x.contains(pt), polygons))\n",
        "    if count > 0:\n",
        "      result = True\n",
        "    return result\n",
        "\n",
        "\n",
        "points['urban'] = points['geometry'].apply(is_urban)\n",
        "print(points.head(30))\n"
      ],
      "execution_count": 12,
      "outputs": [
        {
          "output_type": "stream",
          "text": [
            "Requirement already satisfied: pyshp in /usr/local/lib/python3.6/dist-packages (2.1.2)\n"
          ],
          "name": "stdout"
        },
        {
          "output_type": "error",
          "ename": "KeyboardInterrupt",
          "evalue": "ignored",
          "traceback": [
            "\u001b[0;31m---------------------------------------------------------------------------\u001b[0m",
            "\u001b[0;31mKeyboardInterrupt\u001b[0m                         Traceback (most recent call last)",
            "\u001b[0;32m<ipython-input-12-8d65fe72ea74>\u001b[0m in \u001b[0;36m<module>\u001b[0;34m()\u001b[0m\n\u001b[1;32m     25\u001b[0m \u001b[0;34m\u001b[0m\u001b[0m\n\u001b[1;32m     26\u001b[0m \u001b[0;34m\u001b[0m\u001b[0m\n\u001b[0;32m---> 27\u001b[0;31m \u001b[0mpoints\u001b[0m\u001b[0;34m[\u001b[0m\u001b[0;34m'urban'\u001b[0m\u001b[0;34m]\u001b[0m \u001b[0;34m=\u001b[0m \u001b[0mpoints\u001b[0m\u001b[0;34m[\u001b[0m\u001b[0;34m'geometry'\u001b[0m\u001b[0;34m]\u001b[0m\u001b[0;34m.\u001b[0m\u001b[0mapply\u001b[0m\u001b[0;34m(\u001b[0m\u001b[0mis_urban\u001b[0m\u001b[0;34m)\u001b[0m\u001b[0;34m\u001b[0m\u001b[0;34m\u001b[0m\u001b[0m\n\u001b[0m\u001b[1;32m     28\u001b[0m \u001b[0mprint\u001b[0m\u001b[0;34m(\u001b[0m\u001b[0mpoints\u001b[0m\u001b[0;34m.\u001b[0m\u001b[0mhead\u001b[0m\u001b[0;34m(\u001b[0m\u001b[0;36m30\u001b[0m\u001b[0;34m)\u001b[0m\u001b[0;34m)\u001b[0m\u001b[0;34m\u001b[0m\u001b[0;34m\u001b[0m\u001b[0m\n",
            "\u001b[0;32m/usr/local/lib/python3.6/dist-packages/geopandas/geoseries.py\u001b[0m in \u001b[0;36mapply\u001b[0;34m(self, func, args, **kwargs)\u001b[0m\n\u001b[1;32m    317\u001b[0m     \u001b[0;34m@\u001b[0m\u001b[0minherit_doc\u001b[0m\u001b[0;34m(\u001b[0m\u001b[0mpd\u001b[0m\u001b[0;34m.\u001b[0m\u001b[0mSeries\u001b[0m\u001b[0;34m)\u001b[0m\u001b[0;34m\u001b[0m\u001b[0;34m\u001b[0m\u001b[0m\n\u001b[1;32m    318\u001b[0m     \u001b[0;32mdef\u001b[0m \u001b[0mapply\u001b[0m\u001b[0;34m(\u001b[0m\u001b[0mself\u001b[0m\u001b[0;34m,\u001b[0m \u001b[0mfunc\u001b[0m\u001b[0;34m,\u001b[0m \u001b[0margs\u001b[0m\u001b[0;34m=\u001b[0m\u001b[0;34m(\u001b[0m\u001b[0;34m)\u001b[0m\u001b[0;34m,\u001b[0m \u001b[0;34m**\u001b[0m\u001b[0mkwargs\u001b[0m\u001b[0;34m)\u001b[0m\u001b[0;34m:\u001b[0m\u001b[0;34m\u001b[0m\u001b[0;34m\u001b[0m\u001b[0m\n\u001b[0;32m--> 319\u001b[0;31m         \u001b[0mresult\u001b[0m \u001b[0;34m=\u001b[0m \u001b[0msuper\u001b[0m\u001b[0;34m(\u001b[0m\u001b[0;34m)\u001b[0m\u001b[0;34m.\u001b[0m\u001b[0mapply\u001b[0m\u001b[0;34m(\u001b[0m\u001b[0mfunc\u001b[0m\u001b[0;34m,\u001b[0m \u001b[0margs\u001b[0m\u001b[0;34m=\u001b[0m\u001b[0margs\u001b[0m\u001b[0;34m,\u001b[0m \u001b[0;34m**\u001b[0m\u001b[0mkwargs\u001b[0m\u001b[0;34m)\u001b[0m\u001b[0;34m\u001b[0m\u001b[0;34m\u001b[0m\u001b[0m\n\u001b[0m\u001b[1;32m    320\u001b[0m         \u001b[0;32mif\u001b[0m \u001b[0misinstance\u001b[0m\u001b[0;34m(\u001b[0m\u001b[0mresult\u001b[0m\u001b[0;34m,\u001b[0m \u001b[0mGeoSeries\u001b[0m\u001b[0;34m)\u001b[0m\u001b[0;34m:\u001b[0m\u001b[0;34m\u001b[0m\u001b[0;34m\u001b[0m\u001b[0m\n\u001b[1;32m    321\u001b[0m             \u001b[0;32mif\u001b[0m \u001b[0mself\u001b[0m\u001b[0;34m.\u001b[0m\u001b[0mcrs\u001b[0m \u001b[0;32mis\u001b[0m \u001b[0;32mnot\u001b[0m \u001b[0;32mNone\u001b[0m\u001b[0;34m:\u001b[0m\u001b[0;34m\u001b[0m\u001b[0;34m\u001b[0m\u001b[0m\n",
            "\u001b[0;32m/usr/local/lib/python3.6/dist-packages/pandas/core/series.py\u001b[0m in \u001b[0;36mapply\u001b[0;34m(self, func, convert_dtype, args, **kwds)\u001b[0m\n\u001b[1;32m   4210\u001b[0m             \u001b[0;32melse\u001b[0m\u001b[0;34m:\u001b[0m\u001b[0;34m\u001b[0m\u001b[0;34m\u001b[0m\u001b[0m\n\u001b[1;32m   4211\u001b[0m                 \u001b[0mvalues\u001b[0m \u001b[0;34m=\u001b[0m \u001b[0mself\u001b[0m\u001b[0;34m.\u001b[0m\u001b[0mastype\u001b[0m\u001b[0;34m(\u001b[0m\u001b[0mobject\u001b[0m\u001b[0;34m)\u001b[0m\u001b[0;34m.\u001b[0m\u001b[0m_values\u001b[0m\u001b[0;34m\u001b[0m\u001b[0;34m\u001b[0m\u001b[0m\n\u001b[0;32m-> 4212\u001b[0;31m                 \u001b[0mmapped\u001b[0m \u001b[0;34m=\u001b[0m \u001b[0mlib\u001b[0m\u001b[0;34m.\u001b[0m\u001b[0mmap_infer\u001b[0m\u001b[0;34m(\u001b[0m\u001b[0mvalues\u001b[0m\u001b[0;34m,\u001b[0m \u001b[0mf\u001b[0m\u001b[0;34m,\u001b[0m \u001b[0mconvert\u001b[0m\u001b[0;34m=\u001b[0m\u001b[0mconvert_dtype\u001b[0m\u001b[0;34m)\u001b[0m\u001b[0;34m\u001b[0m\u001b[0;34m\u001b[0m\u001b[0m\n\u001b[0m\u001b[1;32m   4213\u001b[0m \u001b[0;34m\u001b[0m\u001b[0m\n\u001b[1;32m   4214\u001b[0m         \u001b[0;32mif\u001b[0m \u001b[0mlen\u001b[0m\u001b[0;34m(\u001b[0m\u001b[0mmapped\u001b[0m\u001b[0;34m)\u001b[0m \u001b[0;32mand\u001b[0m \u001b[0misinstance\u001b[0m\u001b[0;34m(\u001b[0m\u001b[0mmapped\u001b[0m\u001b[0;34m[\u001b[0m\u001b[0;36m0\u001b[0m\u001b[0;34m]\u001b[0m\u001b[0;34m,\u001b[0m \u001b[0mSeries\u001b[0m\u001b[0;34m)\u001b[0m\u001b[0;34m:\u001b[0m\u001b[0;34m\u001b[0m\u001b[0;34m\u001b[0m\u001b[0m\n",
            "\u001b[0;32mpandas/_libs/lib.pyx\u001b[0m in \u001b[0;36mpandas._libs.lib.map_infer\u001b[0;34m()\u001b[0m\n",
            "\u001b[0;32m<ipython-input-12-8d65fe72ea74>\u001b[0m in \u001b[0;36mis_urban\u001b[0;34m(pt)\u001b[0m\n\u001b[1;32m     19\u001b[0m \u001b[0;32mdef\u001b[0m \u001b[0mis_urban\u001b[0m\u001b[0;34m(\u001b[0m\u001b[0mpt\u001b[0m\u001b[0;34m)\u001b[0m\u001b[0;34m:\u001b[0m\u001b[0;34m\u001b[0m\u001b[0;34m\u001b[0m\u001b[0m\n\u001b[1;32m     20\u001b[0m     \u001b[0mresult\u001b[0m \u001b[0;34m=\u001b[0m \u001b[0;32mFalse\u001b[0m\u001b[0;34m\u001b[0m\u001b[0;34m\u001b[0m\u001b[0m\n\u001b[0;32m---> 21\u001b[0;31m     \u001b[0mcount\u001b[0m \u001b[0;34m=\u001b[0m \u001b[0msum\u001b[0m\u001b[0;34m(\u001b[0m\u001b[0mmap\u001b[0m\u001b[0;34m(\u001b[0m\u001b[0;32mlambda\u001b[0m \u001b[0mx\u001b[0m \u001b[0;34m:\u001b[0m \u001b[0mx\u001b[0m\u001b[0;34m.\u001b[0m\u001b[0mcontains\u001b[0m\u001b[0;34m(\u001b[0m\u001b[0mpt\u001b[0m\u001b[0;34m)\u001b[0m\u001b[0;34m,\u001b[0m \u001b[0mpolygons\u001b[0m\u001b[0;34m)\u001b[0m\u001b[0;34m)\u001b[0m\u001b[0;34m\u001b[0m\u001b[0;34m\u001b[0m\u001b[0m\n\u001b[0m\u001b[1;32m     22\u001b[0m     \u001b[0;32mif\u001b[0m \u001b[0mcount\u001b[0m \u001b[0;34m>\u001b[0m \u001b[0;36m0\u001b[0m\u001b[0;34m:\u001b[0m\u001b[0;34m\u001b[0m\u001b[0;34m\u001b[0m\u001b[0m\n\u001b[1;32m     23\u001b[0m       \u001b[0mresult\u001b[0m \u001b[0;34m=\u001b[0m \u001b[0;32mTrue\u001b[0m\u001b[0;34m\u001b[0m\u001b[0;34m\u001b[0m\u001b[0m\n",
            "\u001b[0;32m<ipython-input-12-8d65fe72ea74>\u001b[0m in \u001b[0;36m<lambda>\u001b[0;34m(x)\u001b[0m\n\u001b[1;32m     19\u001b[0m \u001b[0;32mdef\u001b[0m \u001b[0mis_urban\u001b[0m\u001b[0;34m(\u001b[0m\u001b[0mpt\u001b[0m\u001b[0;34m)\u001b[0m\u001b[0;34m:\u001b[0m\u001b[0;34m\u001b[0m\u001b[0;34m\u001b[0m\u001b[0m\n\u001b[1;32m     20\u001b[0m     \u001b[0mresult\u001b[0m \u001b[0;34m=\u001b[0m \u001b[0;32mFalse\u001b[0m\u001b[0;34m\u001b[0m\u001b[0;34m\u001b[0m\u001b[0m\n\u001b[0;32m---> 21\u001b[0;31m     \u001b[0mcount\u001b[0m \u001b[0;34m=\u001b[0m \u001b[0msum\u001b[0m\u001b[0;34m(\u001b[0m\u001b[0mmap\u001b[0m\u001b[0;34m(\u001b[0m\u001b[0;32mlambda\u001b[0m \u001b[0mx\u001b[0m \u001b[0;34m:\u001b[0m \u001b[0mx\u001b[0m\u001b[0;34m.\u001b[0m\u001b[0mcontains\u001b[0m\u001b[0;34m(\u001b[0m\u001b[0mpt\u001b[0m\u001b[0;34m)\u001b[0m\u001b[0;34m,\u001b[0m \u001b[0mpolygons\u001b[0m\u001b[0;34m)\u001b[0m\u001b[0;34m)\u001b[0m\u001b[0;34m\u001b[0m\u001b[0;34m\u001b[0m\u001b[0m\n\u001b[0m\u001b[1;32m     22\u001b[0m     \u001b[0;32mif\u001b[0m \u001b[0mcount\u001b[0m \u001b[0;34m>\u001b[0m \u001b[0;36m0\u001b[0m\u001b[0;34m:\u001b[0m\u001b[0;34m\u001b[0m\u001b[0;34m\u001b[0m\u001b[0m\n\u001b[1;32m     23\u001b[0m       \u001b[0mresult\u001b[0m \u001b[0;34m=\u001b[0m \u001b[0;32mTrue\u001b[0m\u001b[0;34m\u001b[0m\u001b[0;34m\u001b[0m\u001b[0m\n",
            "\u001b[0;31mKeyboardInterrupt\u001b[0m: "
          ]
        }
      ]
    },
    {
      "cell_type": "markdown",
      "metadata": {
        "id": "dQn2srAk8cW2"
      },
      "source": [
        "## Data analysis\n",
        "\n",
        "*Document you choice and motivation for selected data mining method(s) here. Choose a data mining method(s) to use in Python code to perform an analysis of your chosen dataset. Describe why you chose the method(s) and what interesting things you have found from the analysis.*\n",
        "\n",
        "*Replace the contents of this cell with your own text.*"
      ]
    },
    {
      "cell_type": "code",
      "metadata": {
        "id": "ATmWbngQ8cW3"
      },
      "source": [
        "# Add your own code"
      ],
      "execution_count": null,
      "outputs": []
    },
    {
      "cell_type": "markdown",
      "metadata": {
        "id": "pkx4rmGY8cW6"
      },
      "source": [
        "## Evaluation of results\n",
        "\n",
        "*Document an evaluation your analysis results and describe how potentially actionable they are.*\n",
        "\n",
        "*Replace the contents of this cell with your own text.*"
      ]
    },
    {
      "cell_type": "code",
      "metadata": {
        "id": "jtn_LAGv8cW7"
      },
      "source": [
        "# Add your own code"
      ],
      "execution_count": null,
      "outputs": []
    },
    {
      "cell_type": "markdown",
      "metadata": {
        "id": "k_1nmGFe8cW9"
      },
      "source": [
        "## Schedule and description of project plan\n",
        "\n",
        "*Rough schedule for the project beyond the pilot study presented in 3-5. This does not have to be advanced, you can simply provide an estimate based upon reported schedules for similar projects in the literature.*\n",
        "\n",
        "*Replace the contents of this cell with your own text.*"
      ]
    },
    {
      "cell_type": "markdown",
      "metadata": {
        "id": "diBheNl08cW-"
      },
      "source": [
        "## Ethical aspects that need to be considered\n",
        "\n",
        "*Are there ethical aspects that need to be considered? Are there legal implications (e.g., personal data / GDPR)? Are there implications if the case organization is a business, public authority, or nonprofit entity?*\n",
        "\n",
        "*Replace the contents of this cell with your own text.*"
      ]
    },
    {
      "cell_type": "code",
      "metadata": {
        "id": "CiUM6lEF8cW-"
      },
      "source": [
        ""
      ],
      "execution_count": null,
      "outputs": []
    }
  ]
}