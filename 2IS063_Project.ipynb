{
  "nbformat": 4,
  "nbformat_minor": 0,
  "metadata": {
    "kernelspec": {
      "display_name": "Python 3",
      "language": "python",
      "name": "python3"
    },
    "language_info": {
      "codemirror_mode": {
        "name": "ipython",
        "version": 3
      },
      "file_extension": ".py",
      "mimetype": "text/x-python",
      "name": "python",
      "nbconvert_exporter": "python",
      "pygments_lexer": "ipython3",
      "version": "3.7.0"
    },
    "colab": {
      "name": "2IS063-Project.ipynb",
      "provenance": [],
      "collapsed_sections": [],
      "toc_visible": true,
      "include_colab_link": true
    }
  },
  "cells": [
    {
      "cell_type": "markdown",
      "metadata": {
        "id": "view-in-github",
        "colab_type": "text"
      },
      "source": [
        "<a href=\"https://colab.research.google.com/github/svantepihl/2IS063-Project/blob/main/2IS063_Project.ipynb\" target=\"_parent\"><img src=\"https://colab.research.google.com/assets/colab-badge.svg\" alt=\"Open In Colab\"/></a>"
      ]
    },
    {
      "cell_type": "markdown",
      "metadata": {
        "id": "LCkhGR-q8cWx"
      },
      "source": [
        "# Your Data Mining Pilot Study and Plan"
      ]
    },
    {
      "cell_type": "markdown",
      "metadata": {
        "id": "jHfW_Mv48cWx"
      },
      "source": [
        "## Background\n",
        "\n",
        "*Describe the organization and its operations, operational environment, analytical needs, etc.*\n",
        "\n",
        "*Replace the contents of this cell with your own text.*"
      ]
    },
    {
      "cell_type": "markdown",
      "metadata": {
        "id": "0IWPb6ar8cWy"
      },
      "source": [
        "## Problem description\n",
        "\n",
        "*Describe the problem that the organization is facing and the research question it needs answered.*\n",
        "\n",
        "*Replace the contents of this cell with your own text.*"
      ]
    },
    {
      "cell_type": "markdown",
      "metadata": {
        "id": "L8Q9IUhD8cWz"
      },
      "source": [
        "## Data collection\n",
        "\n",
        "*Document your data collection process and the properties of the data here. Implement, using Python code, to load and preprocess your selected dataset.*\n",
        "\n",
        "*Replace the contents of this cell with your own text.*"
      ]
    },
    {
      "cell_type": "code",
      "metadata": {
        "id": "ZTtaRnjS8cWz"
      },
      "source": [
        "# Add your own code"
      ],
      "execution_count": 1,
      "outputs": []
    },
    {
      "cell_type": "markdown",
      "metadata": {
        "id": "dQn2srAk8cW2"
      },
      "source": [
        "## Data analysis\n",
        "\n",
        "*Document you choice and motivation for selected data mining method(s) here. Choose a data mining method(s) to use in Python code to perform an analysis of your chosen dataset. Describe why you chose the method(s) and what interesting things you have found from the analysis.*\n",
        "\n",
        "*Replace the contents of this cell with your own text.*"
      ]
    },
    {
      "cell_type": "code",
      "metadata": {
        "id": "ATmWbngQ8cW3"
      },
      "source": [
        "# Add your own code"
      ],
      "execution_count": null,
      "outputs": []
    },
    {
      "cell_type": "markdown",
      "metadata": {
        "id": "pkx4rmGY8cW6"
      },
      "source": [
        "## Evaluation of results\n",
        "\n",
        "*Document an evaluation your analysis results and describe how potentially actionable they are.*\n",
        "\n",
        "*Replace the contents of this cell with your own text.*"
      ]
    },
    {
      "cell_type": "code",
      "metadata": {
        "id": "jtn_LAGv8cW7"
      },
      "source": [
        "# Add your own code"
      ],
      "execution_count": null,
      "outputs": []
    },
    {
      "cell_type": "markdown",
      "metadata": {
        "id": "k_1nmGFe8cW9"
      },
      "source": [
        "## Schedule and description of project plan\n",
        "\n",
        "*Rough schedule for the project beyond the pilot study presented in 3-5. This does not have to be advanced, you can simply provide an estimate based upon reported schedules for similar projects in the literature.*\n",
        "\n",
        "*Replace the contents of this cell with your own text.*"
      ]
    },
    {
      "cell_type": "markdown",
      "metadata": {
        "id": "diBheNl08cW-"
      },
      "source": [
        "## Ethical aspects that need to be considered\n",
        "\n",
        "*Are there ethical aspects that need to be considered? Are there legal implications (e.g., personal data / GDPR)? Are there implications if the case organization is a business, public authority, or nonprofit entity?*\n",
        "\n",
        "*Replace the contents of this cell with your own text.*"
      ]
    },
    {
      "cell_type": "code",
      "metadata": {
        "id": "CiUM6lEF8cW-"
      },
      "source": [
        ""
      ],
      "execution_count": null,
      "outputs": []
    }
  ]
}